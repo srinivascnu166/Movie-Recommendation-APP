{
 "cells": [
  {
   "cell_type": "code",
   "execution_count": 1,
   "id": "cdfe5f85",
   "metadata": {},
   "outputs": [
    {
     "name": "stdout",
     "output_type": "stream",
     "text": [
      "0.7.2\n"
     ]
    }
   ],
   "source": [
    "import warnings\n",
    "warnings.filterwarnings(\"ignore\")\n",
    "\n",
    "\n",
    "import pandas as pd\n",
    "import numpy as np\n",
    "import scipy.sparse as sparse\n",
    "import traceback\n",
    "import random\n",
    "from sklearn import metrics\n",
    "import re\n",
    "import implicit\n",
    "import json\n",
    "from implicit.als import AlternatingLeastSquares\n",
    "from scipy.sparse import coo_matrix, csr_matrix\n",
    "# from implicit.approximate_als import AnnoyAlternatingLeastSquares,FaissAlternatingLeastSquares,NMSLibAlternatingLeastSquares\n",
    "# from implicit.nearest_neighbours import BM25Recommender,CosineRecommender,TFIDFRecommender,bm25_weight\n",
    "# from implicit.bpr import BayesianPersonalizedRanking\n",
    "# from implicit.lmf import LogisticMatrixFactorization\n",
    "from implicit.evaluation import train_test_split, ranking_metrics_at_k\n",
    "print(implicit.__version__)"
   ]
  },
  {
   "cell_type": "code",
   "execution_count": 2,
   "id": "cd83bba9",
   "metadata": {},
   "outputs": [],
   "source": [
    "# with open('hyperparameters.json', 'r') as tc:\n",
    "#     trainingParams = json.load(tc)\n",
    "# trainingParams"
   ]
  },
  {
   "cell_type": "code",
   "execution_count": 3,
   "id": "d38e2e24",
   "metadata": {},
   "outputs": [],
   "source": [
    "# factors                 =         trainingParams.get('factors', 100)\n",
    "# regularization          =         trainingParams.get('regularization',0.01)\n",
    "# iterations              =         trainingParams.get('iterations',15)\n",
    "# use_native              =         trainingParams.get('use_native',True)\n",
    "# use_cg                  =         trainingParams.get('use_cg',True)\n",
    "# use_gpu                 =         trainingParams.get('use_gpu',False)\n",
    "# calculate_training_loss =         trainingParams.get('calculate_training_loss',False)\n",
    "# num_threads             =         trainingParams.get('num_threads',0)\n",
    "# scenario                =         trainingParams.get('scenario','upsell')\n",
    "# n_similars              =         trainingParams.get('n_similars',10)\n",
    "# alpha_val               =         trainingParams.get('alpha_val',40)\n",
    "# split_ratio             =         trainingParams.get('split_ratio',0.3)\n",
    "# #return_score            =         trainingParams.get('return_score',False)\n",
    "# compute_aucscore        =         trainingParams.get('compute_aucscore',False)\n",
    "# K1                      =         trainingParams.get('K1',100)         \n",
    "# B                       =         trainingParams.get('B',100)\n",
    "# learning_rate           =         trainingParams.get('learning_rate',0.01)\n",
    "# model_name              =         trainingParams.get('model_name','als')\n",
    "# K                      =         trainingParams.get('K',10)"
   ]
  },
  {
   "cell_type": "code",
   "execution_count": null,
   "id": "21093f49",
   "metadata": {},
   "outputs": [],
   "source": [
    "#        params = {\"factors\": factors,\"iterations\": iterations,\"use_native\":use_native,\"use_cg\":use_cg}\n",
    "\n",
    "\n",
    "factors                 =         40\n",
    "iterations              =         40\n",
    "alpha_val               =         40\n",
    "K                       =         10\n",
    "use_native              =         True\n",
    "use_cg                  =         True\n",
    "use_gpu                 =         False\n",
    "scenario                =         'upsell'\n",
    "n_similars              =         5\n",
    "split_ratio             =         0.3\n",
    "compute_aucscore        =         True\n",
    "learning_rate           =         0.01\n",
    "num_threads             =         0\n",
    "return_score            =         True"
   ]
  },
  {
   "cell_type": "code",
   "execution_count": null,
   "id": "acde6143",
   "metadata": {},
   "outputs": [],
   "source": []
  },
  {
   "cell_type": "code",
   "execution_count": null,
   "id": "c442c4d4",
   "metadata": {},
   "outputs": [],
   "source": []
  },
  {
   "cell_type": "code",
   "execution_count": 5,
   "id": "02f1d998",
   "metadata": {},
   "outputs": [
    {
     "data": {
      "text/html": [
       "<div>\n",
       "<style scoped>\n",
       "    .dataframe tbody tr th:only-of-type {\n",
       "        vertical-align: middle;\n",
       "    }\n",
       "\n",
       "    .dataframe tbody tr th {\n",
       "        vertical-align: top;\n",
       "    }\n",
       "\n",
       "    .dataframe thead th {\n",
       "        text-align: right;\n",
       "    }\n",
       "</style>\n",
       "<table border=\"1\" class=\"dataframe\">\n",
       "  <thead>\n",
       "    <tr style=\"text-align: right;\">\n",
       "      <th></th>\n",
       "      <th>User</th>\n",
       "      <th>Movie_title</th>\n",
       "      <th>rating</th>\n",
       "      <th>genre</th>\n",
       "    </tr>\n",
       "  </thead>\n",
       "  <tbody>\n",
       "    <tr>\n",
       "      <th>0</th>\n",
       "      <td>1</td>\n",
       "      <td>Toy Story (1995)</td>\n",
       "      <td>4.0</td>\n",
       "      <td>Fantasy, Children, Adventure, Animation, Comedy</td>\n",
       "    </tr>\n",
       "    <tr>\n",
       "      <th>1</th>\n",
       "      <td>5</td>\n",
       "      <td>Toy Story (1995)</td>\n",
       "      <td>4.0</td>\n",
       "      <td>Fantasy, Children, Adventure, Animation, Comedy</td>\n",
       "    </tr>\n",
       "    <tr>\n",
       "      <th>2</th>\n",
       "      <td>7</td>\n",
       "      <td>Toy Story (1995)</td>\n",
       "      <td>4.5</td>\n",
       "      <td>Fantasy, Children, Adventure, Animation, Comedy</td>\n",
       "    </tr>\n",
       "    <tr>\n",
       "      <th>3</th>\n",
       "      <td>15</td>\n",
       "      <td>Toy Story (1995)</td>\n",
       "      <td>2.5</td>\n",
       "      <td>Fantasy, Children, Adventure, Animation, Comedy</td>\n",
       "    </tr>\n",
       "    <tr>\n",
       "      <th>4</th>\n",
       "      <td>17</td>\n",
       "      <td>Toy Story (1995)</td>\n",
       "      <td>4.5</td>\n",
       "      <td>Fantasy, Children, Adventure, Animation, Comedy</td>\n",
       "    </tr>\n",
       "    <tr>\n",
       "      <th>...</th>\n",
       "      <td>...</td>\n",
       "      <td>...</td>\n",
       "      <td>...</td>\n",
       "      <td>...</td>\n",
       "    </tr>\n",
       "    <tr>\n",
       "      <th>100831</th>\n",
       "      <td>578</td>\n",
       "      <td>Young Victoria, The (2009)</td>\n",
       "      <td>4.5</td>\n",
       "      <td>Drama, Romance</td>\n",
       "    </tr>\n",
       "    <tr>\n",
       "      <th>100832</th>\n",
       "      <td>175</td>\n",
       "      <td>Raise Your Voice (2004)</td>\n",
       "      <td>5.0</td>\n",
       "      <td>Romance</td>\n",
       "    </tr>\n",
       "    <tr>\n",
       "      <th>100833</th>\n",
       "      <td>578</td>\n",
       "      <td>Cold Creek Manor (2003)</td>\n",
       "      <td>2.5</td>\n",
       "      <td>Drama, Thriller</td>\n",
       "    </tr>\n",
       "    <tr>\n",
       "      <th>100834</th>\n",
       "      <td>578</td>\n",
       "      <td>My Blueberry Nights (2007)</td>\n",
       "      <td>4.0</td>\n",
       "      <td>Drama, Romance</td>\n",
       "    </tr>\n",
       "    <tr>\n",
       "      <th>100835</th>\n",
       "      <td>578</td>\n",
       "      <td>Little Ashes (2008)</td>\n",
       "      <td>2.5</td>\n",
       "      <td>Drama</td>\n",
       "    </tr>\n",
       "  </tbody>\n",
       "</table>\n",
       "<p>100836 rows × 4 columns</p>\n",
       "</div>"
      ],
      "text/plain": [
       "        User                 Movie_title  rating  \\\n",
       "0          1            Toy Story (1995)     4.0   \n",
       "1          5            Toy Story (1995)     4.0   \n",
       "2          7            Toy Story (1995)     4.5   \n",
       "3         15            Toy Story (1995)     2.5   \n",
       "4         17            Toy Story (1995)     4.5   \n",
       "...      ...                         ...     ...   \n",
       "100831   578  Young Victoria, The (2009)     4.5   \n",
       "100832   175     Raise Your Voice (2004)     5.0   \n",
       "100833   578     Cold Creek Manor (2003)     2.5   \n",
       "100834   578  My Blueberry Nights (2007)     4.0   \n",
       "100835   578         Little Ashes (2008)     2.5   \n",
       "\n",
       "                                                  genre  \n",
       "0       Fantasy, Children, Adventure, Animation, Comedy  \n",
       "1       Fantasy, Children, Adventure, Animation, Comedy  \n",
       "2       Fantasy, Children, Adventure, Animation, Comedy  \n",
       "3       Fantasy, Children, Adventure, Animation, Comedy  \n",
       "4       Fantasy, Children, Adventure, Animation, Comedy  \n",
       "...                                                 ...  \n",
       "100831                                   Drama, Romance  \n",
       "100832                                          Romance  \n",
       "100833                                  Drama, Thriller  \n",
       "100834                                   Drama, Romance  \n",
       "100835                                            Drama  \n",
       "\n",
       "[100836 rows x 4 columns]"
      ]
     },
     "execution_count": 5,
     "metadata": {},
     "output_type": "execute_result"
    }
   ],
   "source": [
    "data = pd.read_csv('preprocessed_movie_rec_data.csv')\n",
    "data"
   ]
  },
  {
   "cell_type": "code",
   "execution_count": 6,
   "id": "9a693149",
   "metadata": {},
   "outputs": [
    {
     "name": "stdout",
     "output_type": "stream",
     "text": [
      "number of users:610\n",
      "number of Moves:9719\n"
     ]
    }
   ],
   "source": [
    "print(f\"number of users:{data.User.nunique()}\")\n",
    "print(f\"number of Moves:{data.Movie_title.nunique()}\")"
   ]
  },
  {
   "cell_type": "code",
   "execution_count": 7,
   "id": "5af80e12",
   "metadata": {},
   "outputs": [],
   "source": [
    "####################preprocessing#########################\n",
    "genre_dict = dict(zip(data.Movie_title, data.genre))\n",
    "\n",
    "\n",
    "\n",
    "data['User'] = data['User'].astype(str)\n",
    "data['Movie_title'] = data['Movie_title'].astype(str)\n",
    "data['Movie_title'] = data['Movie_title'].str.strip()\n",
    "\n",
    "#get category codes\n",
    "data['User'] = data['User'].astype(\"category\")\n",
    "data['Movie_title'] = data['Movie_title'].astype(\"category\")\n",
    "#creating unique ID's for users and items\n",
    "data['user_id'] = data['User'].cat.codes\n",
    "data['item_id'] = data['Movie_title'].cat.codes\n",
    "        \n",
    "# creating Mappings and storing into dictionaries............\n",
    "userID_to_UID = dict(enumerate(data['User'].cat.categories))\n",
    "UID_to_userID = dict(map(reversed,userID_to_UID.items()))\n",
    "        \n",
    "itemID_to_ItemNumber = dict(enumerate(data['Movie_title'].cat.categories))\n",
    "ItemNumber_to_itemID = dict(map(reversed,itemID_to_ItemNumber.items())) \n",
    "\n",
    "        \n",
    "#creating sparse matrices.....\n",
    "# The implicit library expects data as a item-user matrix\n",
    "sparse_item_user = sparse.csr_matrix((data['rating'].astype(float), (data['user_id'], data['item_id'])))\n",
    "\n",
    "model = AlternatingLeastSquares(factors=factors , iterations=iterations ,use_native=use_native,use_cg=use_cg,random_state=44)"
   ]
  },
  {
   "cell_type": "code",
   "execution_count": 8,
   "id": "43f1af78",
   "metadata": {},
   "outputs": [
    {
     "data": {
      "text/plain": [
       "(610, 9719)"
      ]
     },
     "execution_count": 8,
     "metadata": {},
     "output_type": "execute_result"
    }
   ],
   "source": [
    "sparse_item_user.get_shape()"
   ]
  },
  {
   "cell_type": "code",
   "execution_count": 9,
   "id": "6005343a",
   "metadata": {},
   "outputs": [
    {
     "data": {
      "text/plain": [
       "<610x9719 sparse matrix of type '<class 'numpy.float64'>'\n",
       "\twith 100832 stored elements in Compressed Sparse Row format>"
      ]
     },
     "execution_count": 9,
     "metadata": {},
     "output_type": "execute_result"
    }
   ],
   "source": [
    "sparse_item_user"
   ]
  },
  {
   "cell_type": "code",
   "execution_count": 10,
   "id": "12550b56",
   "metadata": {},
   "outputs": [
    {
     "name": "stdout",
     "output_type": "stream",
     "text": [
      "Training implicit model\n"
     ]
    },
    {
     "data": {
      "application/vnd.jupyter.widget-view+json": {
       "model_id": "3d1ee2a4a4944e00b696f072bb312d16",
       "version_major": 2,
       "version_minor": 0
      },
      "text/plain": [
       "  0%|          | 0/40 [00:00<?, ?it/s]"
      ]
     },
     "metadata": {},
     "output_type": "display_data"
    },
    {
     "data": {
      "application/vnd.jupyter.widget-view+json": {
       "model_id": "a4c0b5cf32ef42f18397572f87c9d947",
       "version_major": 2,
       "version_minor": 0
      },
      "text/plain": [
       "  0%|          | 0/610 [00:00<?, ?it/s]"
      ]
     },
     "metadata": {},
     "output_type": "display_data"
    },
    {
     "name": "stdout",
     "output_type": "stream",
     "text": [
      "Training complete.\n"
     ]
    }
   ],
   "source": [
    "if compute_aucscore:\n",
    "    # splitting data into train and test....    \n",
    "    train, test = train_test_split(sparse_item_user, train_percentage = split_ratio)       \n",
    "    print('Training implicit model')\n",
    "    #ALS Model.....\n",
    "    model.fit(sparse_item_user * alpha_val)\n",
    "    item_vecs = model.item_factors\n",
    "    user_vecs = model.user_factors\n",
    "    metrics = ranking_metrics_at_k(model, train, test, K=K,show_progress=True, num_threads=num_threads)\n",
    "    print('Training complete.')\n",
    "    scores = [str(key)+'_'+str(value) for key,value in metrics.items()]\n",
    "    all_metrics = '-'.join(x for x in scores)   \n",
    "else:\n",
    "    model.fit(sparse_item_user.T * alpha_val)\n",
    "    all_metrics = None\n",
    "    print('Training complete.')\n"
   ]
  },
  {
   "cell_type": "code",
   "execution_count": null,
   "id": "19622a3b",
   "metadata": {},
   "outputs": [],
   "source": []
  },
  {
   "cell_type": "code",
   "execution_count": 11,
   "id": "7dcbe290",
   "metadata": {},
   "outputs": [
    {
     "data": {
      "text/plain": [
       "'precision_0.21256355584713793-map_0.12012692836697524-ndcg_0.1905005352313823-auc_0.5441508311319115'"
      ]
     },
     "execution_count": 11,
     "metadata": {},
     "output_type": "execute_result"
    }
   ],
   "source": [
    "all_metrics"
   ]
  },
  {
   "cell_type": "code",
   "execution_count": 12,
   "id": "e80dd586",
   "metadata": {},
   "outputs": [
    {
     "name": "stdout",
     "output_type": "stream",
     "text": [
      "(9719, 40) (610, 40)\n"
     ]
    }
   ],
   "source": [
    "item_vecs = model.item_factors\n",
    "user_vecs = model.user_factors\n",
    "print(item_vecs.shape,user_vecs.shape)"
   ]
  },
  {
   "cell_type": "code",
   "execution_count": 13,
   "id": "f5812435",
   "metadata": {},
   "outputs": [],
   "source": []
  },
  {
   "cell_type": "code",
   "execution_count": null,
   "id": "b5a1f482",
   "metadata": {},
   "outputs": [],
   "source": []
  },
  {
   "cell_type": "code",
   "execution_count": 14,
   "id": "a23638a2",
   "metadata": {},
   "outputs": [],
   "source": [
    "user = 1\n",
    "item = 'Little Ashes (2008)'"
   ]
  },
  {
   "cell_type": "code",
   "execution_count": 15,
   "id": "b219ddeb",
   "metadata": {},
   "outputs": [
    {
     "data": {
      "text/plain": [
       "(0.0656232494065911,\n",
       " [(5173, 0.010445630117055744),\n",
       "  (8722, 0.007933309530247908),\n",
       "  (1377, 0.006502952837965175),\n",
       "  (2718, 0.006380700632856531),\n",
       "  (4972, 0.006286520420704237)],\n",
       " (array([[ 0.68077951, -0.02593145,  0.08463157, ...,  0.41847501,\n",
       "           0.18699379,  0.04034979],\n",
       "         [-0.0176536 ,  0.64260207,  0.08039009, ..., -0.11207547,\n",
       "          -0.01677036, -0.01313411],\n",
       "         [ 0.05761544,  0.04946422,  0.56519704, ...,  0.04810501,\n",
       "           0.03284809,  0.04586736],\n",
       "         ...,\n",
       "         [ 0.28488921, -0.08287159,  0.05359525, ...,  0.54589694,\n",
       "           0.0546747 ,  0.02649079],\n",
       "         [ 0.12730154, -0.01562569,  0.03304305, ...,  0.32686752,\n",
       "           0.53475439,  0.00446471],\n",
       "         [ 0.02746931, -0.00948633,  0.02828311, ...,  0.07570201,\n",
       "           0.02666   ,  0.48442618]]),\n",
       "  False))"
      ]
     },
     "execution_count": 15,
     "metadata": {},
     "output_type": "execute_result"
    }
   ],
   "source": [
    "explaination = model.explain(int(userID_to_UID[user]), sparse_item_user, ItemNumber_to_itemID[item], user_weights=None, N=5)\n",
    "explaination"
   ]
  },
  {
   "cell_type": "code",
   "execution_count": 16,
   "id": "2365b8ad",
   "metadata": {},
   "outputs": [],
   "source": [
    "def get_similar_items(itemid,n_similars):\n",
    "    similar_items = []\n",
    "    ids,scores = model.similar_items(ItemNumber_to_itemID[itemid],n_similars,filter_items = [ItemNumber_to_itemID[itemid]])\n",
    "    for x,y in zip(ids,scores):\n",
    "        similar_items.append(itemID_to_ItemNumber[x])\n",
    "    return similar_items\n",
    "\n",
    "def get_recommendations(userid,n_similars,sparse_item_user):# sparse_item_user\n",
    "    recommended_items = []\n",
    "    user_interactions = sparse_item_user.tocsr()\n",
    "    ids,scores = model.recommend(int(userID_to_UID[userid]),user_interactions.getrow(userid), N = n_similars,filter_already_liked_items=True)#sparse_item_user[userID_to_UID[userid]]\n",
    "    for x,y in zip(ids,scores):\n",
    "        recommended_items.append(itemID_to_ItemNumber[x])\n",
    "    return recommended_items"
   ]
  },
  {
   "cell_type": "code",
   "execution_count": 17,
   "id": "3d71f10a",
   "metadata": {},
   "outputs": [
    {
     "data": {
      "text/plain": [
       "['Cold Creek Manor (2003)',\n",
       " 'My Blueberry Nights (2007)',\n",
       " 'Cheaper by the Dozen (1950)',\n",
       " 'Letters to Juliet (2010)',\n",
       " 'Young Victoria, The (2009)']"
      ]
     },
     "execution_count": 17,
     "metadata": {},
     "output_type": "execute_result"
    }
   ],
   "source": [
    "get_similar_items(item,5)"
   ]
  },
  {
   "cell_type": "code",
   "execution_count": 18,
   "id": "953742bf",
   "metadata": {},
   "outputs": [
    {
     "name": "stdout",
     "output_type": "stream",
     "text": [
      "<class 'str'>\n"
     ]
    }
   ],
   "source": [
    "userID_to_UID[user]\n",
    "#sparse_item_user[userID_to_UID[user]]\n",
    "print(type(userID_to_UID[user]))"
   ]
  },
  {
   "cell_type": "code",
   "execution_count": 19,
   "id": "bf068a6a",
   "metadata": {},
   "outputs": [
    {
     "data": {
      "text/plain": [
       "['Tin Cup (1996)',\n",
       " \"What's Eating Gilbert Grape (1993)\",\n",
       " 'Player, The (1992)',\n",
       " 'Bonnie and Clyde (1967)',\n",
       " 'Toy Story 2 (1999)']"
      ]
     },
     "execution_count": 19,
     "metadata": {},
     "output_type": "execute_result"
    }
   ],
   "source": [
    "get_recommendations(user,5,sparse_item_user)"
   ]
  },
  {
   "cell_type": "code",
   "execution_count": 24,
   "id": "3f7fd420",
   "metadata": {},
   "outputs": [
    {
     "data": {
      "text/plain": [
       "(array([368, 450, 332, 177, 460]),\n",
       " array([0.6156651 , 0.56023926, 0.55224854, 0.5522269 , 0.5352689 ],\n",
       "       dtype=float32))"
      ]
     },
     "execution_count": 24,
     "metadata": {},
     "output_type": "execute_result"
    }
   ],
   "source": [
    "users = model.similar_users(int(userID_to_UID[user]),5,filter_users = [int(userID_to_UID[user])])\n",
    "users"
   ]
  },
  {
   "cell_type": "code",
   "execution_count": null,
   "id": "0cc17f54",
   "metadata": {},
   "outputs": [],
   "source": []
  },
  {
   "cell_type": "code",
   "execution_count": null,
   "id": "2471cd6a",
   "metadata": {},
   "outputs": [],
   "source": [
    "# ['Say Anything... (1989)',\n",
    "#  'Dancer in the Dark (2000)',\n",
    "#  'Lost in Translation (2003)',\n",
    "#  \"Harry Potter and the Sorcerer's Stone (a.k.a. Harry Potter and the Philosopher's Stone) (2001)\",\n",
    "#  'Toy Story 2 (1999)']"
   ]
  },
  {
   "cell_type": "code",
   "execution_count": 104,
   "id": "0a45315e",
   "metadata": {},
   "outputs": [
    {
     "ename": "KeyError",
     "evalue": "1",
     "output_type": "error",
     "traceback": [
      "\u001b[1;31m---------------------------------------------------------------------------\u001b[0m",
      "\u001b[1;31mKeyError\u001b[0m                                  Traceback (most recent call last)",
      "Cell \u001b[1;32mIn[104], line 1\u001b[0m\n\u001b[1;32m----> 1\u001b[0m \u001b[43mUID_to_userID\u001b[49m\u001b[43m[\u001b[49m\u001b[43muser\u001b[49m\u001b[43m]\u001b[49m, IId_to_ItemID\n",
      "\u001b[1;31mKeyError\u001b[0m: 1"
     ]
    }
   ],
   "source": [
    "UID_to_userID[user], IId_to_ItemID"
   ]
  },
  {
   "cell_type": "code",
   "execution_count": 105,
   "id": "f8068245",
   "metadata": {},
   "outputs": [
    {
     "data": {
      "text/plain": [
       "(5108, 'Little Ashes (2008)')"
      ]
     },
     "execution_count": 105,
     "metadata": {},
     "output_type": "execute_result"
    }
   ],
   "source": [
    "ItemNumber_to_itemID[item], itemID_to_ItemNumber[5108]"
   ]
  },
  {
   "cell_type": "code",
   "execution_count": 106,
   "id": "30827faf",
   "metadata": {},
   "outputs": [
    {
     "name": "stdout",
     "output_type": "stream",
     "text": [
      "Little Ashes (2008)\n",
      "[5108 1877 5928 1700 9662] [1.         0.99999225 0.9999663  0.92081267 0.8451694 ]\n"
     ]
    }
   ],
   "source": [
    "ids,scores = model.similar_items(5108,5)\n",
    "print(itemID_to_ItemNumber[5108])\n",
    "print(ids,scores)"
   ]
  },
  {
   "cell_type": "code",
   "execution_count": 107,
   "id": "b7298d7c",
   "metadata": {},
   "outputs": [
    {
     "name": "stdout",
     "output_type": "stream",
     "text": [
      "Little Ashes (2008) 1.0\n",
      "Cold Creek Manor (2003) 0.99999225\n",
      "My Blueberry Nights (2007) 0.9999663\n",
      "Cheaper by the Dozen (1950) 0.92081267\n",
      "Young Victoria, The (2009) 0.8451694\n"
     ]
    }
   ],
   "source": [
    "for x,y in zip(ids,scores):\n",
    "    print(itemID_to_ItemNumber[x],y)"
   ]
  },
  {
   "cell_type": "code",
   "execution_count": 108,
   "id": "fe59fc62",
   "metadata": {},
   "outputs": [
    {
     "ename": "NameError",
     "evalue": "name 'items' is not defined",
     "output_type": "error",
     "traceback": [
      "\u001b[1;31m---------------------------------------------------------------------------\u001b[0m",
      "\u001b[1;31mNameError\u001b[0m                                 Traceback (most recent call last)",
      "Cell \u001b[1;32mIn[108], line 1\u001b[0m\n\u001b[1;32m----> 1\u001b[0m temp_list \u001b[38;5;241m=\u001b[39m [item_tuple \u001b[38;5;28;01mfor\u001b[39;00m item_tuple \u001b[38;5;129;01min\u001b[39;00m \u001b[43mitems\u001b[49m \u001b[38;5;28;01mif\u001b[39;00m \u001b[38;5;241m5\u001b[39m\u001b[38;5;241m!=\u001b[39mitem_tuple[\u001b[38;5;241m0\u001b[39m]]\n\u001b[0;32m      3\u001b[0m temp_list\n",
      "\u001b[1;31mNameError\u001b[0m: name 'items' is not defined"
     ]
    }
   ],
   "source": [
    "temp_list = [item_tuple for item_tuple in items if 5!=item_tuple[0]]\n",
    "\n",
    "temp_list"
   ]
  },
  {
   "cell_type": "code",
   "execution_count": 109,
   "id": "e937ad86",
   "metadata": {},
   "outputs": [
    {
     "ename": "NameError",
     "evalue": "name 'temp_list' is not defined",
     "output_type": "error",
     "traceback": [
      "\u001b[1;31m---------------------------------------------------------------------------\u001b[0m",
      "\u001b[1;31mNameError\u001b[0m                                 Traceback (most recent call last)",
      "Cell \u001b[1;32mIn[109], line 2\u001b[0m\n\u001b[0;32m      1\u001b[0m up_cell_list \u001b[38;5;241m=\u001b[39m []\n\u001b[1;32m----> 2\u001b[0m \u001b[38;5;28;01mfor\u001b[39;00m item \u001b[38;5;129;01min\u001b[39;00m \u001b[43mtemp_list\u001b[49m:\n\u001b[0;32m      3\u001b[0m     \u001b[38;5;28mprint\u001b[39m(item)\n\u001b[0;32m      4\u001b[0m     idx, score \u001b[38;5;241m=\u001b[39m item\n",
      "\u001b[1;31mNameError\u001b[0m: name 'temp_list' is not defined"
     ]
    }
   ],
   "source": [
    "up_cell_list = []\n",
    "for item in temp_list:\n",
    "    print(item)\n",
    "    idx, score = item\n",
    "    if return_score == True:\n",
    "        up_cell_list.append(str(itemID_to_ItemNumber[idx]) + \",\" + str(score))\n",
    "    if return_score == False:\n",
    "        up_cell_list.append(str(itemID_to_ItemNumber[idx]))"
   ]
  },
  {
   "cell_type": "code",
   "execution_count": null,
   "id": "c42a3366",
   "metadata": {},
   "outputs": [],
   "source": []
  },
  {
   "cell_type": "code",
   "execution_count": 13,
   "id": "f6835e5d",
   "metadata": {},
   "outputs": [
    {
     "ename": "IndexError",
     "evalue": "index 5108 is out of bounds for axis 0 with size 610",
     "output_type": "error",
     "traceback": [
      "\u001b[1;31m---------------------------------------------------------------------------\u001b[0m",
      "\u001b[1;31mIndexError\u001b[0m                                Traceback (most recent call last)",
      "Cell \u001b[1;32mIn[13], line 2\u001b[0m\n\u001b[0;32m      1\u001b[0m \u001b[38;5;66;03m#c_list = cross_sell(user,sparse_item_user,n_similars,return_score)\u001b[39;00m\n\u001b[1;32m----> 2\u001b[0m u_list \u001b[38;5;241m=\u001b[39m \u001b[43mup_sell\u001b[49m\u001b[43m(\u001b[49m\u001b[43mitem\u001b[49m\u001b[43m,\u001b[49m\u001b[43mn_similars\u001b[49m\u001b[43m,\u001b[49m\u001b[43mreturn_score\u001b[49m\u001b[43m)\u001b[49m\n",
      "Cell \u001b[1;32mIn[9], line 15\u001b[0m, in \u001b[0;36mup_sell\u001b[1;34m(IID, n_similars, return_score)\u001b[0m\n\u001b[0;32m     13\u001b[0m \u001b[38;5;28;01mdef\u001b[39;00m\u001b[38;5;250m \u001b[39m\u001b[38;5;21mup_sell\u001b[39m(IID,n_similars,return_score):\n\u001b[0;32m     14\u001b[0m     up_cell_list \u001b[38;5;241m=\u001b[39m []\n\u001b[1;32m---> 15\u001b[0m     upsell_items \u001b[38;5;241m=\u001b[39m \u001b[43mmodel\u001b[49m\u001b[38;5;241;43m.\u001b[39;49m\u001b[43msimilar_items\u001b[49m\u001b[43m(\u001b[49m\u001b[43mItemNumber_to_itemID\u001b[49m\u001b[43m[\u001b[49m\u001b[43mIID\u001b[49m\u001b[43m]\u001b[49m\u001b[43m,\u001b[49m\u001b[43m \u001b[49m\u001b[43mn_similars\u001b[49m\u001b[43m)\u001b[49m\n\u001b[0;32m     16\u001b[0m     \u001b[38;5;28;01mfor\u001b[39;00m item \u001b[38;5;129;01min\u001b[39;00m upsell_items:\n\u001b[0;32m     17\u001b[0m         idx, score \u001b[38;5;241m=\u001b[39m item\n",
      "File \u001b[1;32m~\\AppData\\Local\\anaconda3\\lib\\site-packages\\implicit\\cpu\\matrix_factorization_base.py:180\u001b[0m, in \u001b[0;36mMatrixFactorizationBase.similar_items\u001b[1;34m(self, itemid, N, recalculate_item, item_users, filter_items, items)\u001b[0m\n\u001b[0;32m    177\u001b[0m \u001b[38;5;28;01mdef\u001b[39;00m\u001b[38;5;250m \u001b[39m\u001b[38;5;21msimilar_items\u001b[39m(\n\u001b[0;32m    178\u001b[0m     \u001b[38;5;28mself\u001b[39m, itemid, N\u001b[38;5;241m=\u001b[39m\u001b[38;5;241m10\u001b[39m, recalculate_item\u001b[38;5;241m=\u001b[39m\u001b[38;5;28;01mFalse\u001b[39;00m, item_users\u001b[38;5;241m=\u001b[39m\u001b[38;5;28;01mNone\u001b[39;00m, filter_items\u001b[38;5;241m=\u001b[39m\u001b[38;5;28;01mNone\u001b[39;00m, items\u001b[38;5;241m=\u001b[39m\u001b[38;5;28;01mNone\u001b[39;00m\n\u001b[0;32m    179\u001b[0m ):\n\u001b[1;32m--> 180\u001b[0m     factor \u001b[38;5;241m=\u001b[39m \u001b[38;5;28;43mself\u001b[39;49m\u001b[38;5;241;43m.\u001b[39;49m\u001b[43m_item_factor\u001b[49m\u001b[43m(\u001b[49m\u001b[43mitemid\u001b[49m\u001b[43m,\u001b[49m\u001b[43m \u001b[49m\u001b[43mitem_users\u001b[49m\u001b[43m,\u001b[49m\u001b[43m \u001b[49m\u001b[43mrecalculate_item\u001b[49m\u001b[43m)\u001b[49m\n\u001b[0;32m    181\u001b[0m     factors \u001b[38;5;241m=\u001b[39m \u001b[38;5;28mself\u001b[39m\u001b[38;5;241m.\u001b[39mitem_factors\n\u001b[0;32m    182\u001b[0m     norms \u001b[38;5;241m=\u001b[39m \u001b[38;5;28mself\u001b[39m\u001b[38;5;241m.\u001b[39mitem_norms\n",
      "File \u001b[1;32m~\\AppData\\Local\\anaconda3\\lib\\site-packages\\implicit\\cpu\\matrix_factorization_base.py:140\u001b[0m, in \u001b[0;36mMatrixFactorizationBase._item_factor\u001b[1;34m(self, itemid, item_users, recalculate_item)\u001b[0m\n\u001b[0;32m    138\u001b[0m \u001b[38;5;28;01mif\u001b[39;00m recalculate_item:\n\u001b[0;32m    139\u001b[0m     \u001b[38;5;28;01mreturn\u001b[39;00m \u001b[38;5;28mself\u001b[39m\u001b[38;5;241m.\u001b[39mrecalculate_item(itemid, item_users)\n\u001b[1;32m--> 140\u001b[0m \u001b[38;5;28;01mreturn\u001b[39;00m \u001b[38;5;28;43mself\u001b[39;49m\u001b[38;5;241;43m.\u001b[39;49m\u001b[43mitem_factors\u001b[49m\u001b[43m[\u001b[49m\u001b[43mitemid\u001b[49m\u001b[43m]\u001b[49m\n",
      "\u001b[1;31mIndexError\u001b[0m: index 5108 is out of bounds for axis 0 with size 610"
     ]
    }
   ],
   "source": [
    "#c_list = cross_sell(user,sparse_item_user,n_similars,return_score)\n",
    "u_list = up_sell(item,n_similars,return_score)"
   ]
  },
  {
   "cell_type": "code",
   "execution_count": null,
   "id": "761fa216",
   "metadata": {},
   "outputs": [],
   "source": [
    "print(c_list,u_list)"
   ]
  },
  {
   "cell_type": "code",
   "execution_count": null,
   "id": "5c6342ac",
   "metadata": {},
   "outputs": [],
   "source": []
  }
 ],
 "metadata": {
  "kernelspec": {
   "display_name": "Python 3 (ipykernel)",
   "language": "python",
   "name": "python3"
  },
  "language_info": {
   "codemirror_mode": {
    "name": "ipython",
    "version": 3
   },
   "file_extension": ".py",
   "mimetype": "text/x-python",
   "name": "python",
   "nbconvert_exporter": "python",
   "pygments_lexer": "ipython3",
   "version": "3.10.9"
  },
  "varInspector": {
   "cols": {
    "lenName": 16,
    "lenType": 16,
    "lenVar": 40
   },
   "kernels_config": {
    "python": {
     "delete_cmd_postfix": "",
     "delete_cmd_prefix": "del ",
     "library": "var_list.py",
     "varRefreshCmd": "print(var_dic_list())"
    },
    "r": {
     "delete_cmd_postfix": ") ",
     "delete_cmd_prefix": "rm(",
     "library": "var_list.r",
     "varRefreshCmd": "cat(var_dic_list()) "
    }
   },
   "types_to_exclude": [
    "module",
    "function",
    "builtin_function_or_method",
    "instance",
    "_Feature"
   ],
   "window_display": false
  }
 },
 "nbformat": 4,
 "nbformat_minor": 5
}
