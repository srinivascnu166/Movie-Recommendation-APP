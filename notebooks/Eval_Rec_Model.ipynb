{
 "cells": [
  {
   "cell_type": "code",
   "execution_count": 1,
   "id": "cdfe5f85",
   "metadata": {},
   "outputs": [
    {
     "name": "stdout",
     "output_type": "stream",
     "text": [
      "0.7.2\n"
     ]
    }
   ],
   "source": [
    "import warnings\n",
    "warnings.filterwarnings(\"ignore\")\n",
    "\n",
    "\n",
    "import pandas as pd\n",
    "import numpy as np\n",
    "import scipy.sparse as sparse\n",
    "import traceback\n",
    "import random\n",
    "from sklearn import metrics\n",
    "import re\n",
    "import implicit\n",
    "import json\n",
    "from implicit.als import AlternatingLeastSquares\n",
    "from scipy.sparse import coo_matrix, csr_matrix\n",
    "from sklearn.model_selection import ParameterGrid\n",
    "\n",
    "from implicit.evaluation import train_test_split, ranking_metrics_at_k\n",
    "print(implicit.__version__)\n",
    "from als_tuner import fine_tune_als\n"
   ]
  },
  {
   "cell_type": "code",
   "execution_count": 2,
   "id": "21093f49",
   "metadata": {},
   "outputs": [],
   "source": [
    "#        params = {\"factors\": factors,\"iterations\": iterations,\"use_native\":use_native,\"use_cg\":use_cg}\n",
    "\n",
    "\n",
    "factors                 =         40\n",
    "iterations              =         40\n",
    "alpha_val               =         40\n",
    "K                       =         10\n",
    "use_native              =         True\n",
    "use_cg                  =         True\n",
    "use_gpu                 =         False\n",
    "scenario                =         'upsell'\n",
    "n_similars              =         5\n",
    "split_ratio             =         0.3\n",
    "compute_aucscore        =         True\n",
    "learning_rate           =         0.01\n",
    "num_threads             =         0\n",
    "return_score            =         True"
   ]
  },
  {
   "cell_type": "code",
   "execution_count": 3,
   "id": "02f1d998",
   "metadata": {},
   "outputs": [
    {
     "data": {
      "text/html": [
       "<div>\n",
       "<style scoped>\n",
       "    .dataframe tbody tr th:only-of-type {\n",
       "        vertical-align: middle;\n",
       "    }\n",
       "\n",
       "    .dataframe tbody tr th {\n",
       "        vertical-align: top;\n",
       "    }\n",
       "\n",
       "    .dataframe thead th {\n",
       "        text-align: right;\n",
       "    }\n",
       "</style>\n",
       "<table border=\"1\" class=\"dataframe\">\n",
       "  <thead>\n",
       "    <tr style=\"text-align: right;\">\n",
       "      <th></th>\n",
       "      <th>User</th>\n",
       "      <th>Movie_title</th>\n",
       "      <th>rating</th>\n",
       "      <th>genre</th>\n",
       "    </tr>\n",
       "  </thead>\n",
       "  <tbody>\n",
       "    <tr>\n",
       "      <th>0</th>\n",
       "      <td>1</td>\n",
       "      <td>Toy Story (1995)</td>\n",
       "      <td>4.0</td>\n",
       "      <td>Fantasy, Children, Adventure, Animation, Comedy</td>\n",
       "    </tr>\n",
       "    <tr>\n",
       "      <th>1</th>\n",
       "      <td>5</td>\n",
       "      <td>Toy Story (1995)</td>\n",
       "      <td>4.0</td>\n",
       "      <td>Fantasy, Children, Adventure, Animation, Comedy</td>\n",
       "    </tr>\n",
       "    <tr>\n",
       "      <th>2</th>\n",
       "      <td>7</td>\n",
       "      <td>Toy Story (1995)</td>\n",
       "      <td>4.5</td>\n",
       "      <td>Fantasy, Children, Adventure, Animation, Comedy</td>\n",
       "    </tr>\n",
       "    <tr>\n",
       "      <th>3</th>\n",
       "      <td>15</td>\n",
       "      <td>Toy Story (1995)</td>\n",
       "      <td>2.5</td>\n",
       "      <td>Fantasy, Children, Adventure, Animation, Comedy</td>\n",
       "    </tr>\n",
       "    <tr>\n",
       "      <th>4</th>\n",
       "      <td>17</td>\n",
       "      <td>Toy Story (1995)</td>\n",
       "      <td>4.5</td>\n",
       "      <td>Fantasy, Children, Adventure, Animation, Comedy</td>\n",
       "    </tr>\n",
       "    <tr>\n",
       "      <th>...</th>\n",
       "      <td>...</td>\n",
       "      <td>...</td>\n",
       "      <td>...</td>\n",
       "      <td>...</td>\n",
       "    </tr>\n",
       "    <tr>\n",
       "      <th>100831</th>\n",
       "      <td>578</td>\n",
       "      <td>Young Victoria, The (2009)</td>\n",
       "      <td>4.5</td>\n",
       "      <td>Drama, Romance</td>\n",
       "    </tr>\n",
       "    <tr>\n",
       "      <th>100832</th>\n",
       "      <td>175</td>\n",
       "      <td>Raise Your Voice (2004)</td>\n",
       "      <td>5.0</td>\n",
       "      <td>Romance</td>\n",
       "    </tr>\n",
       "    <tr>\n",
       "      <th>100833</th>\n",
       "      <td>578</td>\n",
       "      <td>Cold Creek Manor (2003)</td>\n",
       "      <td>2.5</td>\n",
       "      <td>Drama, Thriller</td>\n",
       "    </tr>\n",
       "    <tr>\n",
       "      <th>100834</th>\n",
       "      <td>578</td>\n",
       "      <td>My Blueberry Nights (2007)</td>\n",
       "      <td>4.0</td>\n",
       "      <td>Drama, Romance</td>\n",
       "    </tr>\n",
       "    <tr>\n",
       "      <th>100835</th>\n",
       "      <td>578</td>\n",
       "      <td>Little Ashes (2008)</td>\n",
       "      <td>2.5</td>\n",
       "      <td>Drama</td>\n",
       "    </tr>\n",
       "  </tbody>\n",
       "</table>\n",
       "<p>100836 rows × 4 columns</p>\n",
       "</div>"
      ],
      "text/plain": [
       "        User                 Movie_title  rating  \\\n",
       "0          1            Toy Story (1995)     4.0   \n",
       "1          5            Toy Story (1995)     4.0   \n",
       "2          7            Toy Story (1995)     4.5   \n",
       "3         15            Toy Story (1995)     2.5   \n",
       "4         17            Toy Story (1995)     4.5   \n",
       "...      ...                         ...     ...   \n",
       "100831   578  Young Victoria, The (2009)     4.5   \n",
       "100832   175     Raise Your Voice (2004)     5.0   \n",
       "100833   578     Cold Creek Manor (2003)     2.5   \n",
       "100834   578  My Blueberry Nights (2007)     4.0   \n",
       "100835   578         Little Ashes (2008)     2.5   \n",
       "\n",
       "                                                  genre  \n",
       "0       Fantasy, Children, Adventure, Animation, Comedy  \n",
       "1       Fantasy, Children, Adventure, Animation, Comedy  \n",
       "2       Fantasy, Children, Adventure, Animation, Comedy  \n",
       "3       Fantasy, Children, Adventure, Animation, Comedy  \n",
       "4       Fantasy, Children, Adventure, Animation, Comedy  \n",
       "...                                                 ...  \n",
       "100831                                   Drama, Romance  \n",
       "100832                                          Romance  \n",
       "100833                                  Drama, Thriller  \n",
       "100834                                   Drama, Romance  \n",
       "100835                                            Drama  \n",
       "\n",
       "[100836 rows x 4 columns]"
      ]
     },
     "execution_count": 3,
     "metadata": {},
     "output_type": "execute_result"
    }
   ],
   "source": [
    "data = pd.read_csv('preprocessed_movie_rec_data.csv')\n",
    "data"
   ]
  },
  {
   "cell_type": "code",
   "execution_count": 4,
   "id": "9a693149",
   "metadata": {},
   "outputs": [
    {
     "name": "stdout",
     "output_type": "stream",
     "text": [
      "number of users:610\n",
      "number of Moves:9719\n"
     ]
    }
   ],
   "source": [
    "print(f\"number of users:{data.User.nunique()}\")\n",
    "print(f\"number of Moves:{data.Movie_title.nunique()}\")"
   ]
  },
  {
   "cell_type": "code",
   "execution_count": 5,
   "id": "5af80e12",
   "metadata": {},
   "outputs": [],
   "source": [
    "####################preprocessing#########################\n",
    "genre_dict = dict(zip(data.Movie_title, data.genre))\n",
    "\n",
    "\n",
    "\n",
    "data['User'] = data['User'].astype(str)\n",
    "data['Movie_title'] = data['Movie_title'].astype(str)\n",
    "data['Movie_title'] = data['Movie_title'].str.strip()\n",
    "\n",
    "#get category codes\n",
    "data['User'] = data['User'].astype(\"category\")\n",
    "data['Movie_title'] = data['Movie_title'].astype(\"category\")\n",
    "#creating unique ID's for users and items\n",
    "data['user_id'] = data['User'].cat.codes\n",
    "data['item_id'] = data['Movie_title'].cat.codes\n",
    "        \n",
    "# creating Mappings and storing into dictionaries............\n",
    "userID_to_UID = dict(enumerate(data['User'].cat.categories))\n",
    "UID_to_userID = dict(map(reversed,userID_to_UID.items()))\n",
    "        \n",
    "itemID_to_ItemNumber = dict(enumerate(data['Movie_title'].cat.categories))\n",
    "ItemNumber_to_itemID = dict(map(reversed,itemID_to_ItemNumber.items())) \n",
    "\n",
    "        \n",
    "#creating sparse matrices.....\n",
    "# The implicit library expects data as a item-user matrix\n",
    "sparse_item_user = sparse.csr_matrix((data['rating'].astype(float), (data['user_id'], data['item_id'])))\n",
    "\n",
    "#model = AlternatingLeastSquares(factors=factors , iterations=iterations ,use_native=use_native,use_cg=use_cg)"
   ]
  },
  {
   "cell_type": "code",
   "execution_count": 6,
   "id": "a496cbde",
   "metadata": {},
   "outputs": [],
   "source": [
    "# def evaluate_model(model, train,test, K=10):\n",
    "    \n",
    "#     score = implicit.evaluation.AUC_at_k(model, train, test, K=K, show_progress=True)\n",
    "#     # Dummy evaluation: Normally you'd use metrics like MAP@K, NDCG@K, Recall@K, etc.\n",
    "#     # This just returns a random score for illustration.\n",
    "#     return score\n",
    "\n",
    "# def fine_tune_als(user_items,\n",
    "#                   factors_list, \n",
    "#                   iterations_list, \n",
    "#                   alpha_list, \n",
    "#                   K_list,\n",
    "#                   search_type='random', \n",
    "#                   n_iter=10, \n",
    "#                   random_state=42):\n",
    "    \n",
    "#     random.seed(random_state)\n",
    "\n",
    "#     param_grid = {\n",
    "#         'factors': factors_list,\n",
    "#         'iterations': iterations_list,\n",
    "#         'alpha_val': alpha_list,\n",
    "#         'K': K_list\n",
    "#     }\n",
    "\n",
    "#     all_params = list(ParameterGrid(param_grid))\n",
    "\n",
    "#     if search_type == 'random':\n",
    "#         sampled_params = random.sample(all_params, min(n_iter, len(all_params)))\n",
    "#     elif search_type == 'grid':\n",
    "#         sampled_params = all_params\n",
    "#     else:\n",
    "#         raise ValueError(\"search_type must be 'random' or 'grid'\")\n",
    "\n",
    "#     best_score = -np.inf\n",
    "#     best_params = None\n",
    "\n",
    "#     for params in sampled_params:\n",
    "#         model = AlternatingLeastSquares(factors=params['factors'], \n",
    "#                                         iterations=params['iterations'])\n",
    "#         train, test = train_test_split(user_items, train_percentage = split_ratio)\n",
    "#         # Weighting by alpha_val\n",
    "#         weighted_user_items = (train * params['alpha_val']).astype('double')\n",
    "\n",
    "#         model.fit(train)\n",
    "\n",
    "#         score = evaluate_model(model, train, test, K=params['K'])\n",
    "\n",
    "#         if score > best_score:\n",
    "#             best_score = score\n",
    "#             best_params = params\n",
    "\n",
    "#     return best_params, best_score\n",
    "\n",
    "# # Example Usage\n",
    "# # user_items = ... # your sparse user-item matrix\n",
    "\n",
    "\n",
    "\n",
    "# tuned_params, tuned_score = fine_tune_als(\n",
    "#     user_items = sparse_item_user,\n",
    "#     factors_list=[x for x in range(20, 200, 5)],\n",
    "#     iterations_list=[x for x in range(20, 200, 10)],\n",
    "#     alpha_list=[10, 20, 40],\n",
    "#     K_list=[x for x in range(20, 100, 10)],\n",
    "#     search_type='random',\n",
    "#     n_iter=5\n",
    "# )\n",
    "\n",
    "# print(\"Best Parameters:\", tuned_params)\n",
    "# print(\"Best Score:\", tuned_score)"
   ]
  },
  {
   "cell_type": "code",
   "execution_count": 7,
   "id": "66f534dc",
   "metadata": {},
   "outputs": [
    {
     "data": {
      "application/vnd.jupyter.widget-view+json": {
       "model_id": "f297bf55384b410c8116a40fb335f6c1",
       "version_major": 2,
       "version_minor": 0
      },
      "text/plain": [
       "  0%|          | 0/20 [00:00<?, ?it/s]"
      ]
     },
     "metadata": {},
     "output_type": "display_data"
    },
    {
     "data": {
      "application/vnd.jupyter.widget-view+json": {
       "model_id": "de4086d748f745d0a9b2a45ab3b4ee02",
       "version_major": 2,
       "version_minor": 0
      },
      "text/plain": [
       "  0%|          | 0/610 [00:00<?, ?it/s]"
      ]
     },
     "metadata": {},
     "output_type": "display_data"
    },
    {
     "data": {
      "application/vnd.jupyter.widget-view+json": {
       "model_id": "3da29c4c4a684aea92d4073a4f28450a",
       "version_major": 2,
       "version_minor": 0
      },
      "text/plain": [
       "  0%|          | 0/80 [00:00<?, ?it/s]"
      ]
     },
     "metadata": {},
     "output_type": "display_data"
    },
    {
     "data": {
      "application/vnd.jupyter.widget-view+json": {
       "model_id": "bb89d71b69684379a827e0cfbc496e17",
       "version_major": 2,
       "version_minor": 0
      },
      "text/plain": [
       "  0%|          | 0/610 [00:00<?, ?it/s]"
      ]
     },
     "metadata": {},
     "output_type": "display_data"
    },
    {
     "data": {
      "application/vnd.jupyter.widget-view+json": {
       "model_id": "4b1796a9b2d9454aac7beedaa9a86b9f",
       "version_major": 2,
       "version_minor": 0
      },
      "text/plain": [
       "  0%|          | 0/150 [00:00<?, ?it/s]"
      ]
     },
     "metadata": {},
     "output_type": "display_data"
    },
    {
     "data": {
      "application/vnd.jupyter.widget-view+json": {
       "model_id": "a48e8e272bfd4e62ab38e616dcf87a25",
       "version_major": 2,
       "version_minor": 0
      },
      "text/plain": [
       "  0%|          | 0/610 [00:00<?, ?it/s]"
      ]
     },
     "metadata": {},
     "output_type": "display_data"
    },
    {
     "data": {
      "application/vnd.jupyter.widget-view+json": {
       "model_id": "164ca278fad04494aa89e75867ae1aad",
       "version_major": 2,
       "version_minor": 0
      },
      "text/plain": [
       "  0%|          | 0/190 [00:00<?, ?it/s]"
      ]
     },
     "metadata": {},
     "output_type": "display_data"
    },
    {
     "data": {
      "application/vnd.jupyter.widget-view+json": {
       "model_id": "b3186ee298834d8aa6db0f21363ffe2c",
       "version_major": 2,
       "version_minor": 0
      },
      "text/plain": [
       "  0%|          | 0/610 [00:00<?, ?it/s]"
      ]
     },
     "metadata": {},
     "output_type": "display_data"
    },
    {
     "data": {
      "application/vnd.jupyter.widget-view+json": {
       "model_id": "b9ccec6b012749dea81ca75be65c6ed3",
       "version_major": 2,
       "version_minor": 0
      },
      "text/plain": [
       "  0%|          | 0/80 [00:00<?, ?it/s]"
      ]
     },
     "metadata": {},
     "output_type": "display_data"
    },
    {
     "data": {
      "application/vnd.jupyter.widget-view+json": {
       "model_id": "77db855526fc4cdf94e193af5a8d6499",
       "version_major": 2,
       "version_minor": 0
      },
      "text/plain": [
       "  0%|          | 0/610 [00:00<?, ?it/s]"
      ]
     },
     "metadata": {},
     "output_type": "display_data"
    }
   ],
   "source": [
    "tuned_params, tuned_score = fine_tune_als(\n",
    "    user_items = sparse_item_user,\n",
    "    factors_list=[x for x in range(20, 200, 5)],\n",
    "    iterations_list=[x for x in range(20, 200, 10)],\n",
    "    alpha_list=[10, 20, 40],\n",
    "    K_list=[x for x in range(20, 100, 10)],\n",
    "    search_type='random',\n",
    "    n_iter=5\n",
    ")"
   ]
  },
  {
   "cell_type": "code",
   "execution_count": 8,
   "id": "86181fa0",
   "metadata": {},
   "outputs": [
    {
     "name": "stdout",
     "output_type": "stream",
     "text": [
      "{'K': 70, 'alpha_val': 20, 'factors': 50, 'iterations': 20} 0.6029468454589336\n"
     ]
    }
   ],
   "source": [
    "print(tuned_params, tuned_score)"
   ]
  },
  {
   "cell_type": "code",
   "execution_count": 9,
   "id": "43f1af78",
   "metadata": {},
   "outputs": [
    {
     "data": {
      "text/plain": [
       "(610, 9719)"
      ]
     },
     "execution_count": 9,
     "metadata": {},
     "output_type": "execute_result"
    }
   ],
   "source": [
    "sparse_item_user.get_shape()"
   ]
  },
  {
   "cell_type": "code",
   "execution_count": 10,
   "id": "c2f3401c",
   "metadata": {},
   "outputs": [
    {
     "data": {
      "text/plain": [
       "{'factors': 50, 'iterations': 20}"
      ]
     },
     "execution_count": 10,
     "metadata": {},
     "output_type": "execute_result"
    }
   ],
   "source": [
    "keys_to_remove = {'K', 'alpha_val'}\n",
    "\n",
    "final_params = {k: v for k, v in tuned_params.items() if k not in keys_to_remove}\n",
    "final_params"
   ]
  },
  {
   "cell_type": "code",
   "execution_count": 12,
   "id": "6005343a",
   "metadata": {},
   "outputs": [
    {
     "data": {
      "application/vnd.jupyter.widget-view+json": {
       "model_id": "e806825a17f74d74b09d87e47fe9b543",
       "version_major": 2,
       "version_minor": 0
      },
      "text/plain": [
       "  0%|          | 0/20 [00:00<?, ?it/s]"
      ]
     },
     "metadata": {},
     "output_type": "display_data"
    }
   ],
   "source": [
    "model = AlternatingLeastSquares(**final_params)\n",
    "weighted_user_items = sparse_item_user*alpha_val\n",
    "model.fit(weighted_user_items)"
   ]
  },
  {
   "cell_type": "code",
   "execution_count": 17,
   "id": "76cb4b35",
   "metadata": {},
   "outputs": [],
   "source": [
    "model.save('implicit_model.npz')"
   ]
  },
  {
   "cell_type": "code",
   "execution_count": 18,
   "id": "f23cbe9e",
   "metadata": {},
   "outputs": [
    {
     "data": {
      "text/plain": [
       "<implicit.cpu.als.AlternatingLeastSquares at 0x1ecf0191f30>"
      ]
     },
     "execution_count": 18,
     "metadata": {},
     "output_type": "execute_result"
    }
   ],
   "source": [
    "model.load('implicit_model.npz')"
   ]
  },
  {
   "cell_type": "code",
   "execution_count": 15,
   "id": "8716eb25",
   "metadata": {},
   "outputs": [],
   "source": [
    "import pickle\n",
    "with open('recommendation_model.pkl', 'wb') as out:\n",
    "            pickle.dump(model, out)"
   ]
  },
  {
   "cell_type": "code",
   "execution_count": 19,
   "id": "12550b56",
   "metadata": {},
   "outputs": [
    {
     "name": "stdout",
     "output_type": "stream",
     "text": [
      "Training implicit model\n"
     ]
    },
    {
     "data": {
      "application/vnd.jupyter.widget-view+json": {
       "model_id": "13450f8e2d69463c8c3674f51c62eb1b",
       "version_major": 2,
       "version_minor": 0
      },
      "text/plain": [
       "  0%|          | 0/190 [00:00<?, ?it/s]"
      ]
     },
     "metadata": {},
     "output_type": "display_data"
    },
    {
     "data": {
      "application/vnd.jupyter.widget-view+json": {
       "model_id": "e405f2b6cfc847c9aab2466c95a93f25",
       "version_major": 2,
       "version_minor": 0
      },
      "text/plain": [
       "  0%|          | 0/610 [00:00<?, ?it/s]"
      ]
     },
     "metadata": {},
     "output_type": "display_data"
    },
    {
     "name": "stdout",
     "output_type": "stream",
     "text": [
      "Training complete.\n"
     ]
    }
   ],
   "source": [
    "if compute_aucscore:\n",
    "    # splitting data into train and test....    \n",
    "    train, test = train_test_split(sparse_item_user, train_percentage = split_ratio)       \n",
    "    print('Training implicit model')\n",
    "    #ALS Model.....\n",
    "    weighted_user_items = (sparse_item_user * tuned_params['alpha_val']).astype('double')\n",
    "    model.fit(sparse_item_user * alpha_val)\n",
    "    item_vecs = model.item_factors\n",
    "    user_vecs = model.user_factors\n",
    "    metrics = ranking_metrics_at_k(model, train, test, K=K,show_progress=True, num_threads=num_threads)\n",
    "    print('Training complete.')\n",
    "    scores = [str(key)+'_'+str(value) for key,value in metrics.items()]\n",
    "    all_metrics = '-'.join(x for x in scores)   \n",
    "else:\n",
    "    model.fit(sparse_item_user.T * alpha_val)\n",
    "    all_metrics = None\n",
    "    print('Training complete.')\n"
   ]
  },
  {
   "cell_type": "code",
   "execution_count": null,
   "id": "d4a1e477",
   "metadata": {},
   "outputs": [],
   "source": []
  },
  {
   "cell_type": "code",
   "execution_count": 11,
   "id": "7dcbe290",
   "metadata": {},
   "outputs": [
    {
     "data": {
      "text/plain": [
       "'precision_0.21147540983606558-map_0.11936293260473588-ndcg_0.1901549518521156-auc_0.5450899288620303'"
      ]
     },
     "execution_count": 11,
     "metadata": {},
     "output_type": "execute_result"
    }
   ],
   "source": [
    "all_metrics"
   ]
  },
  {
   "cell_type": "code",
   "execution_count": 12,
   "id": "e80dd586",
   "metadata": {},
   "outputs": [
    {
     "name": "stdout",
     "output_type": "stream",
     "text": [
      "(9719, 40) (610, 40)\n"
     ]
    }
   ],
   "source": [
    "item_vecs = model.item_factors\n",
    "user_vecs = model.user_factors\n",
    "print(item_vecs.shape,user_vecs.shape)"
   ]
  },
  {
   "cell_type": "code",
   "execution_count": 13,
   "id": "f5812435",
   "metadata": {},
   "outputs": [],
   "source": [
    "def cross_sell(CID,sparse_matrix,n_similars,return_score):\n",
    "            cross_cell_list = []\n",
    "            cross_sell_items = model.recommend(UID_to_userID[CID], sparse_matrix.T,N = n_similars,filter_already_liked_items=True)\n",
    "            for item in cross_sell_items:\n",
    "                idx, score = item\n",
    "                if return_score == True:\n",
    "                    cross_cell_list.append(str(itemID_to_ItemNumber[idx]) + \",\" + str(score))\n",
    "                if return_score == False:\n",
    "                    cross_cell_list.append(str(itemID_to_ItemNumber[idx]))\n",
    "            return cross_cell_list[:n_similars]\n",
    "            \n",
    "#function to return recommended items for up_sell scenario\n",
    "def up_sell(IID,n_similars,return_score):\n",
    "    up_cell_list = []\n",
    "    upsell_items = model.similar_items(ItemNumber_to_itemID[IID], n_similars)\n",
    "    temp_list = [item_tuple for item_tuple in similar_users if UID_to_userID[CID]!=item_tuple[0]]\n",
    "    for item in temp_list:\n",
    "        idx, score = item\n",
    "        if return_score == True:\n",
    "            up_cell_list.append(str(itemID_to_ItemNumber[idx]) + \",\" + str(score))\n",
    "        if return_score == False:\n",
    "            up_cell_list.append(str(itemID_to_ItemNumber[idx]))\n",
    "    return up_cell_list[:n_similars]\n",
    "\n",
    "#function to return similar users for a user scenario\n",
    "def sim_users(CID,n_similars,return_score):\n",
    "    sim_users_list = []\n",
    "    similar_users = model.similar_users(UID_to_userID[CID], n_similars+5)\n",
    "    for user in similar_users:\n",
    "        idx, score = user\n",
    "        if return_score == True:\n",
    "            sim_users_list.append(str(userID_to_UID[idx]) + \",\" + str(score))\n",
    "        if return_score == False:\n",
    "            sim_users_list.append(str(userID_to_UID[idx]))\n",
    "    return sim_users_list[:n_similars]\n",
    "\n",
    "#function to rank items for a given user. \n",
    "def rank_the_items(CID,sparse_matrix,item_lst,return_score):\n",
    "    ranked_items = []\n",
    "    if len(item_lst)==0:\n",
    "        ranked_items.append('no__similar__items')\n",
    "    else:    \n",
    "        cross_sell_items = model.rank_items(UID_to_userID[CID], sparse_matrix.T,item_lst)\n",
    "        #temp_list = [item_tuple for item_tuple in cross_sell_items if UID_to_userID[CID]!=item_tuple[0]]\n",
    "        for item in cross_sell_items:\n",
    "            idx, score = item\n",
    "            if return_score == True:\n",
    "                ranked_items.append(str(itemID_to_ItemNumber[idx]) + \",\" + str(score))\n",
    "            if return_score == False:\n",
    "                ranked_items.append(str(itemID_to_ItemNumber[idx]))\n",
    "    return ranked_items "
   ]
  },
  {
   "cell_type": "code",
   "execution_count": null,
   "id": "b5a1f482",
   "metadata": {},
   "outputs": [],
   "source": []
  },
  {
   "cell_type": "code",
   "execution_count": 14,
   "id": "a23638a2",
   "metadata": {},
   "outputs": [],
   "source": [
    "user = 1\n",
    "item = 'Little Ashes (2008)'"
   ]
  },
  {
   "cell_type": "code",
   "execution_count": 15,
   "id": "b219ddeb",
   "metadata": {},
   "outputs": [
    {
     "data": {
      "text/plain": [
       "(0.059775773856051255,\n",
       " [(2718, 0.011321517003243218),\n",
       "  (8722, 0.007764773842487329),\n",
       "  (4433, 0.006925168762858794),\n",
       "  (191, 0.005570294008169316),\n",
       "  (4701, 0.00533203770169138)],\n",
       " (array([[ 0.58171603, -0.04636782, -0.08311552, ..., -0.04931596,\n",
       "          -0.03605708,  0.04398253],\n",
       "         [-0.0269729 ,  0.73183668,  0.24858655, ..., -0.05930919,\n",
       "           0.09041805,  0.12909893],\n",
       "         [-0.04834963,  0.18577864,  0.70265555, ..., -0.02192623,\n",
       "           0.03350223,  0.05165326],\n",
       "         ...,\n",
       "         [-0.02868788, -0.04111797, -0.02605114, ...,  0.51874216,\n",
       "           0.00198335,  0.03673074],\n",
       "         [-0.02097498,  0.06784313,  0.04901415, ...,  0.00554083,\n",
       "           0.53853498, -0.00482693],\n",
       "         [ 0.02558534,  0.09243996,  0.06473107, ...,  0.0072433 ,\n",
       "           0.03519173,  0.53814896]]),\n",
       "  False))"
      ]
     },
     "execution_count": 15,
     "metadata": {},
     "output_type": "execute_result"
    }
   ],
   "source": [
    "explaination = model.explain(int(userID_to_UID[user]), sparse_item_user, ItemNumber_to_itemID[item], user_weights=None, N=5)\n",
    "explaination"
   ]
  },
  {
   "cell_type": "code",
   "execution_count": 20,
   "id": "2365b8ad",
   "metadata": {},
   "outputs": [],
   "source": [
    "def get_similar_items(itemid,n_similars):\n",
    "    similar_items = []\n",
    "    ids,scores = model.similar_items(ItemNumber_to_itemID[itemid],n_similars,filter_items = [ItemNumber_to_itemID[itemid]])\n",
    "    for x,y in zip(ids,scores):\n",
    "        similar_items.append(itemID_to_ItemNumber[x])\n",
    "    return similar_items\n",
    "\n",
    "def get_recommendations(userid,n_similars,sparse_item_user):# sparse_item_user\n",
    "    recommended_items = []\n",
    "    user_interactions = sparse_item_user.tocsr()\n",
    "    ids,scores = model.recommend(int(userID_to_UID[userid]),user_interactions.getrow(userid), N = n_similars,filter_already_liked_items=True)#sparse_item_user[userID_to_UID[userid]]\n",
    "    for x,y in zip(ids,scores):\n",
    "        recommended_items.append(itemID_to_ItemNumber[x])\n",
    "    return recommended_items"
   ]
  },
  {
   "cell_type": "code",
   "execution_count": 21,
   "id": "3d71f10a",
   "metadata": {},
   "outputs": [
    {
     "data": {
      "text/plain": [
       "['Cold Creek Manor (2003)',\n",
       " 'My Blueberry Nights (2007)',\n",
       " 'Cheaper by the Dozen (1950)',\n",
       " 'Young Victoria, The (2009)',\n",
       " 'Letters to Juliet (2010)']"
      ]
     },
     "execution_count": 21,
     "metadata": {},
     "output_type": "execute_result"
    }
   ],
   "source": [
    "get_similar_items(item,5)"
   ]
  },
  {
   "cell_type": "code",
   "execution_count": 22,
   "id": "953742bf",
   "metadata": {},
   "outputs": [
    {
     "name": "stdout",
     "output_type": "stream",
     "text": [
      "<class 'str'>\n"
     ]
    }
   ],
   "source": [
    "userID_to_UID[user]\n",
    "#sparse_item_user[userID_to_UID[user]]\n",
    "print(type(userID_to_UID[user]))"
   ]
  },
  {
   "cell_type": "code",
   "execution_count": 23,
   "id": "bf068a6a",
   "metadata": {},
   "outputs": [
    {
     "data": {
      "text/plain": [
       "['Say Anything... (1989)',\n",
       " 'Dancer in the Dark (2000)',\n",
       " 'Lost in Translation (2003)',\n",
       " \"Harry Potter and the Sorcerer's Stone (a.k.a. Harry Potter and the Philosopher's Stone) (2001)\",\n",
       " 'Toy Story 2 (1999)']"
      ]
     },
     "execution_count": 23,
     "metadata": {},
     "output_type": "execute_result"
    }
   ],
   "source": [
    "get_recommendations(user,5,sparse_item_user)"
   ]
  },
  {
   "cell_type": "code",
   "execution_count": null,
   "id": "2471cd6a",
   "metadata": {},
   "outputs": [],
   "source": []
  },
  {
   "cell_type": "code",
   "execution_count": 104,
   "id": "0a45315e",
   "metadata": {},
   "outputs": [
    {
     "ename": "KeyError",
     "evalue": "1",
     "output_type": "error",
     "traceback": [
      "\u001b[1;31m---------------------------------------------------------------------------\u001b[0m",
      "\u001b[1;31mKeyError\u001b[0m                                  Traceback (most recent call last)",
      "Cell \u001b[1;32mIn[104], line 1\u001b[0m\n\u001b[1;32m----> 1\u001b[0m \u001b[43mUID_to_userID\u001b[49m\u001b[43m[\u001b[49m\u001b[43muser\u001b[49m\u001b[43m]\u001b[49m, IId_to_ItemID\n",
      "\u001b[1;31mKeyError\u001b[0m: 1"
     ]
    }
   ],
   "source": [
    "UID_to_userID[user], IId_to_ItemID"
   ]
  },
  {
   "cell_type": "code",
   "execution_count": 105,
   "id": "f8068245",
   "metadata": {},
   "outputs": [
    {
     "data": {
      "text/plain": [
       "(5108, 'Little Ashes (2008)')"
      ]
     },
     "execution_count": 105,
     "metadata": {},
     "output_type": "execute_result"
    }
   ],
   "source": [
    "ItemNumber_to_itemID[item], itemID_to_ItemNumber[5108]"
   ]
  },
  {
   "cell_type": "code",
   "execution_count": 106,
   "id": "30827faf",
   "metadata": {},
   "outputs": [
    {
     "name": "stdout",
     "output_type": "stream",
     "text": [
      "Little Ashes (2008)\n",
      "[5108 1877 5928 1700 9662] [1.         0.99999225 0.9999663  0.92081267 0.8451694 ]\n"
     ]
    }
   ],
   "source": [
    "ids,scores = model.similar_items(5108,5)\n",
    "print(itemID_to_ItemNumber[5108])\n",
    "print(ids,scores)"
   ]
  },
  {
   "cell_type": "code",
   "execution_count": 107,
   "id": "b7298d7c",
   "metadata": {},
   "outputs": [
    {
     "name": "stdout",
     "output_type": "stream",
     "text": [
      "Little Ashes (2008) 1.0\n",
      "Cold Creek Manor (2003) 0.99999225\n",
      "My Blueberry Nights (2007) 0.9999663\n",
      "Cheaper by the Dozen (1950) 0.92081267\n",
      "Young Victoria, The (2009) 0.8451694\n"
     ]
    }
   ],
   "source": [
    "for x,y in zip(ids,scores):\n",
    "    print(itemID_to_ItemNumber[x],y)"
   ]
  },
  {
   "cell_type": "code",
   "execution_count": 108,
   "id": "fe59fc62",
   "metadata": {},
   "outputs": [
    {
     "ename": "NameError",
     "evalue": "name 'items' is not defined",
     "output_type": "error",
     "traceback": [
      "\u001b[1;31m---------------------------------------------------------------------------\u001b[0m",
      "\u001b[1;31mNameError\u001b[0m                                 Traceback (most recent call last)",
      "Cell \u001b[1;32mIn[108], line 1\u001b[0m\n\u001b[1;32m----> 1\u001b[0m temp_list \u001b[38;5;241m=\u001b[39m [item_tuple \u001b[38;5;28;01mfor\u001b[39;00m item_tuple \u001b[38;5;129;01min\u001b[39;00m \u001b[43mitems\u001b[49m \u001b[38;5;28;01mif\u001b[39;00m \u001b[38;5;241m5\u001b[39m\u001b[38;5;241m!=\u001b[39mitem_tuple[\u001b[38;5;241m0\u001b[39m]]\n\u001b[0;32m      3\u001b[0m temp_list\n",
      "\u001b[1;31mNameError\u001b[0m: name 'items' is not defined"
     ]
    }
   ],
   "source": [
    "temp_list = [item_tuple for item_tuple in items if 5!=item_tuple[0]]\n",
    "\n",
    "temp_list"
   ]
  },
  {
   "cell_type": "code",
   "execution_count": 109,
   "id": "e937ad86",
   "metadata": {},
   "outputs": [
    {
     "ename": "NameError",
     "evalue": "name 'temp_list' is not defined",
     "output_type": "error",
     "traceback": [
      "\u001b[1;31m---------------------------------------------------------------------------\u001b[0m",
      "\u001b[1;31mNameError\u001b[0m                                 Traceback (most recent call last)",
      "Cell \u001b[1;32mIn[109], line 2\u001b[0m\n\u001b[0;32m      1\u001b[0m up_cell_list \u001b[38;5;241m=\u001b[39m []\n\u001b[1;32m----> 2\u001b[0m \u001b[38;5;28;01mfor\u001b[39;00m item \u001b[38;5;129;01min\u001b[39;00m \u001b[43mtemp_list\u001b[49m:\n\u001b[0;32m      3\u001b[0m     \u001b[38;5;28mprint\u001b[39m(item)\n\u001b[0;32m      4\u001b[0m     idx, score \u001b[38;5;241m=\u001b[39m item\n",
      "\u001b[1;31mNameError\u001b[0m: name 'temp_list' is not defined"
     ]
    }
   ],
   "source": [
    "up_cell_list = []\n",
    "for item in temp_list:\n",
    "    print(item)\n",
    "    idx, score = item\n",
    "    if return_score == True:\n",
    "        up_cell_list.append(str(itemID_to_ItemNumber[idx]) + \",\" + str(score))\n",
    "    if return_score == False:\n",
    "        up_cell_list.append(str(itemID_to_ItemNumber[idx]))"
   ]
  },
  {
   "cell_type": "code",
   "execution_count": null,
   "id": "c42a3366",
   "metadata": {},
   "outputs": [],
   "source": []
  },
  {
   "cell_type": "code",
   "execution_count": 13,
   "id": "f6835e5d",
   "metadata": {},
   "outputs": [
    {
     "ename": "IndexError",
     "evalue": "index 5108 is out of bounds for axis 0 with size 610",
     "output_type": "error",
     "traceback": [
      "\u001b[1;31m---------------------------------------------------------------------------\u001b[0m",
      "\u001b[1;31mIndexError\u001b[0m                                Traceback (most recent call last)",
      "Cell \u001b[1;32mIn[13], line 2\u001b[0m\n\u001b[0;32m      1\u001b[0m \u001b[38;5;66;03m#c_list = cross_sell(user,sparse_item_user,n_similars,return_score)\u001b[39;00m\n\u001b[1;32m----> 2\u001b[0m u_list \u001b[38;5;241m=\u001b[39m \u001b[43mup_sell\u001b[49m\u001b[43m(\u001b[49m\u001b[43mitem\u001b[49m\u001b[43m,\u001b[49m\u001b[43mn_similars\u001b[49m\u001b[43m,\u001b[49m\u001b[43mreturn_score\u001b[49m\u001b[43m)\u001b[49m\n",
      "Cell \u001b[1;32mIn[9], line 15\u001b[0m, in \u001b[0;36mup_sell\u001b[1;34m(IID, n_similars, return_score)\u001b[0m\n\u001b[0;32m     13\u001b[0m \u001b[38;5;28;01mdef\u001b[39;00m\u001b[38;5;250m \u001b[39m\u001b[38;5;21mup_sell\u001b[39m(IID,n_similars,return_score):\n\u001b[0;32m     14\u001b[0m     up_cell_list \u001b[38;5;241m=\u001b[39m []\n\u001b[1;32m---> 15\u001b[0m     upsell_items \u001b[38;5;241m=\u001b[39m \u001b[43mmodel\u001b[49m\u001b[38;5;241;43m.\u001b[39;49m\u001b[43msimilar_items\u001b[49m\u001b[43m(\u001b[49m\u001b[43mItemNumber_to_itemID\u001b[49m\u001b[43m[\u001b[49m\u001b[43mIID\u001b[49m\u001b[43m]\u001b[49m\u001b[43m,\u001b[49m\u001b[43m \u001b[49m\u001b[43mn_similars\u001b[49m\u001b[43m)\u001b[49m\n\u001b[0;32m     16\u001b[0m     \u001b[38;5;28;01mfor\u001b[39;00m item \u001b[38;5;129;01min\u001b[39;00m upsell_items:\n\u001b[0;32m     17\u001b[0m         idx, score \u001b[38;5;241m=\u001b[39m item\n",
      "File \u001b[1;32m~\\AppData\\Local\\anaconda3\\lib\\site-packages\\implicit\\cpu\\matrix_factorization_base.py:180\u001b[0m, in \u001b[0;36mMatrixFactorizationBase.similar_items\u001b[1;34m(self, itemid, N, recalculate_item, item_users, filter_items, items)\u001b[0m\n\u001b[0;32m    177\u001b[0m \u001b[38;5;28;01mdef\u001b[39;00m\u001b[38;5;250m \u001b[39m\u001b[38;5;21msimilar_items\u001b[39m(\n\u001b[0;32m    178\u001b[0m     \u001b[38;5;28mself\u001b[39m, itemid, N\u001b[38;5;241m=\u001b[39m\u001b[38;5;241m10\u001b[39m, recalculate_item\u001b[38;5;241m=\u001b[39m\u001b[38;5;28;01mFalse\u001b[39;00m, item_users\u001b[38;5;241m=\u001b[39m\u001b[38;5;28;01mNone\u001b[39;00m, filter_items\u001b[38;5;241m=\u001b[39m\u001b[38;5;28;01mNone\u001b[39;00m, items\u001b[38;5;241m=\u001b[39m\u001b[38;5;28;01mNone\u001b[39;00m\n\u001b[0;32m    179\u001b[0m ):\n\u001b[1;32m--> 180\u001b[0m     factor \u001b[38;5;241m=\u001b[39m \u001b[38;5;28;43mself\u001b[39;49m\u001b[38;5;241;43m.\u001b[39;49m\u001b[43m_item_factor\u001b[49m\u001b[43m(\u001b[49m\u001b[43mitemid\u001b[49m\u001b[43m,\u001b[49m\u001b[43m \u001b[49m\u001b[43mitem_users\u001b[49m\u001b[43m,\u001b[49m\u001b[43m \u001b[49m\u001b[43mrecalculate_item\u001b[49m\u001b[43m)\u001b[49m\n\u001b[0;32m    181\u001b[0m     factors \u001b[38;5;241m=\u001b[39m \u001b[38;5;28mself\u001b[39m\u001b[38;5;241m.\u001b[39mitem_factors\n\u001b[0;32m    182\u001b[0m     norms \u001b[38;5;241m=\u001b[39m \u001b[38;5;28mself\u001b[39m\u001b[38;5;241m.\u001b[39mitem_norms\n",
      "File \u001b[1;32m~\\AppData\\Local\\anaconda3\\lib\\site-packages\\implicit\\cpu\\matrix_factorization_base.py:140\u001b[0m, in \u001b[0;36mMatrixFactorizationBase._item_factor\u001b[1;34m(self, itemid, item_users, recalculate_item)\u001b[0m\n\u001b[0;32m    138\u001b[0m \u001b[38;5;28;01mif\u001b[39;00m recalculate_item:\n\u001b[0;32m    139\u001b[0m     \u001b[38;5;28;01mreturn\u001b[39;00m \u001b[38;5;28mself\u001b[39m\u001b[38;5;241m.\u001b[39mrecalculate_item(itemid, item_users)\n\u001b[1;32m--> 140\u001b[0m \u001b[38;5;28;01mreturn\u001b[39;00m \u001b[38;5;28;43mself\u001b[39;49m\u001b[38;5;241;43m.\u001b[39;49m\u001b[43mitem_factors\u001b[49m\u001b[43m[\u001b[49m\u001b[43mitemid\u001b[49m\u001b[43m]\u001b[49m\n",
      "\u001b[1;31mIndexError\u001b[0m: index 5108 is out of bounds for axis 0 with size 610"
     ]
    }
   ],
   "source": [
    "#c_list = cross_sell(user,sparse_item_user,n_similars,return_score)\n",
    "u_list = up_sell(item,n_similars,return_score)"
   ]
  },
  {
   "cell_type": "code",
   "execution_count": null,
   "id": "761fa216",
   "metadata": {},
   "outputs": [],
   "source": [
    "print(c_list,u_list)"
   ]
  },
  {
   "cell_type": "code",
   "execution_count": null,
   "id": "5c6342ac",
   "metadata": {},
   "outputs": [],
   "source": []
  }
 ],
 "metadata": {
  "kernelspec": {
   "display_name": "Python 3 (ipykernel)",
   "language": "python",
   "name": "python3"
  },
  "language_info": {
   "codemirror_mode": {
    "name": "ipython",
    "version": 3
   },
   "file_extension": ".py",
   "mimetype": "text/x-python",
   "name": "python",
   "nbconvert_exporter": "python",
   "pygments_lexer": "ipython3",
   "version": "3.10.9"
  },
  "varInspector": {
   "cols": {
    "lenName": 16,
    "lenType": 16,
    "lenVar": 40
   },
   "kernels_config": {
    "python": {
     "delete_cmd_postfix": "",
     "delete_cmd_prefix": "del ",
     "library": "var_list.py",
     "varRefreshCmd": "print(var_dic_list())"
    },
    "r": {
     "delete_cmd_postfix": ") ",
     "delete_cmd_prefix": "rm(",
     "library": "var_list.r",
     "varRefreshCmd": "cat(var_dic_list()) "
    }
   },
   "types_to_exclude": [
    "module",
    "function",
    "builtin_function_or_method",
    "instance",
    "_Feature"
   ],
   "window_display": false
  }
 },
 "nbformat": 4,
 "nbformat_minor": 5
}
